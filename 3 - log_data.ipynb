{
 "cells": [
  {
   "cell_type": "code",
   "execution_count": 1,
   "metadata": {
    "ExecuteTime": {
     "end_time": "2018-07-13T05:18:00.790292Z",
     "start_time": "2018-07-13T05:18:00.774381Z"
    }
   },
   "outputs": [],
   "source": [
    "import pandas as pd\n",
    "import numpy as np\n",
    "import os, pickle"
   ]
  },
  {
   "cell_type": "markdown",
   "metadata": {},
   "source": [
    "## **Log data**\n",
    "\n",
    "\n",
    "* 29GB의 아주 큰 데이터로 조심스럽게 loading해야 할 필요가 있음\n",
    "* 실습에서는 최초 5천만건만 잘라서 사용 (시스템에 무리가 감)\n",
    "* 조금씩 데이터를 불러와서 크기를 파악하면서 작업 진행\n"
   ]
  },
  {
   "cell_type": "code",
   "execution_count": 2,
   "metadata": {
    "ExecuteTime": {
     "end_time": "2018-07-13T05:18:01.213705Z",
     "start_time": "2018-07-13T05:18:00.797679Z"
    }
   },
   "outputs": [
    {
     "name": "stdout",
     "output_type": "stream",
     "text": [
      "/home/M2017017/KKBox/notebook\r\n"
     ]
    }
   ],
   "source": [
    "!pwd"
   ]
  },
  {
   "cell_type": "code",
   "execution_count": 3,
   "metadata": {
    "ExecuteTime": {
     "end_time": "2018-07-13T05:18:01.534531Z",
     "start_time": "2018-07-13T05:18:01.221090Z"
    }
   },
   "outputs": [
    {
     "name": "stdout",
     "output_type": "stream",
     "text": [
      "3.7G\t../tut_data/user_logs_small.csv\r\n"
     ]
    }
   ],
   "source": [
    "! du -sh ../tut_data/user_logs_small.csv"
   ]
  },
  {
   "cell_type": "markdown",
   "metadata": {},
   "source": [
    "#### 차지할 memory 계산"
   ]
  },
  {
   "cell_type": "code",
   "execution_count": 4,
   "metadata": {
    "ExecuteTime": {
     "end_time": "2018-07-13T05:18:01.599259Z",
     "start_time": "2018-07-13T05:18:01.538079Z"
    }
   },
   "outputs": [
    {
     "name": "stdout",
     "output_type": "stream",
     "text": [
      "size = 3404 bytes\n"
     ]
    }
   ],
   "source": [
    "user_log =  pd.read_csv('../tut_data/user_logs_small.csv', nrows=20)\n",
    "import sys\n",
    "print('size = {} bytes'.format(sys.getsizeof(user_log)))"
   ]
  },
  {
   "cell_type": "markdown",
   "metadata": {},
   "source": [
    "$\\Rightarrow$ 20 record가 3404byte임"
   ]
  },
  {
   "cell_type": "code",
   "execution_count": 5,
   "metadata": {
    "ExecuteTime": {
     "end_time": "2018-07-13T05:18:01.675198Z",
     "start_time": "2018-07-13T05:18:01.602336Z"
    }
   },
   "outputs": [
    {
     "name": "stdout",
     "output_type": "stream",
     "text": [
      "# sample per GB = 7417658.66039953 obs\n"
     ]
    }
   ],
   "source": [
    "print('# sample per GB = {} obs'.format(1024 * 1024 * 1204 / (3404/20)))"
   ]
  },
  {
   "cell_type": "markdown",
   "metadata": {},
   "source": [
    "$\\Rightarrow$ 1GB에 약 700만건 들어감"
   ]
  },
  {
   "cell_type": "markdown",
   "metadata": {},
   "source": [
    "### Free memory check\n",
    " * 126GB 정도 free\n"
   ]
  },
  {
   "cell_type": "code",
   "execution_count": 23,
   "metadata": {
    "ExecuteTime": {
     "end_time": "2018-07-13T05:18:01.742327Z",
     "start_time": "2018-07-13T05:18:01.679238Z"
    }
   },
   "outputs": [
    {
     "name": "stdout",
     "output_type": "stream",
     "text": [
      "              total        used        free      shared  buff/cache   available\r\n",
      "Mem:         128826       77795       15673         304       35357       49343\r\n",
      "Swap:         31249        9451       21798\r\n"
     ]
    }
   ],
   "source": [
    "! free -m"
   ]
  },
  {
   "cell_type": "markdown",
   "metadata": {},
   "source": [
    " buff/cache  +  available"
   ]
  },
  {
   "cell_type": "markdown",
   "metadata": {},
   "source": [
    "## Rough하게 data 파악"
   ]
  },
  {
   "cell_type": "code",
   "execution_count": 7,
   "metadata": {
    "ExecuteTime": {
     "end_time": "2018-07-13T05:26:04.814998Z",
     "start_time": "2018-07-13T05:18:01.745925Z"
    }
   },
   "outputs": [],
   "source": [
    "user_log = pd.read_csv('../tut_data/user_logs_small.csv', nrows=7417658)"
   ]
  },
  {
   "cell_type": "code",
   "execution_count": 8,
   "metadata": {
    "ExecuteTime": {
     "end_time": "2018-07-13T05:26:04.844539Z",
     "start_time": "2018-07-13T05:26:04.817973Z"
    }
   },
   "outputs": [
    {
     "data": {
      "text/html": [
       "<div>\n",
       "<style scoped>\n",
       "    .dataframe tbody tr th:only-of-type {\n",
       "        vertical-align: middle;\n",
       "    }\n",
       "\n",
       "    .dataframe tbody tr th {\n",
       "        vertical-align: top;\n",
       "    }\n",
       "\n",
       "    .dataframe thead th {\n",
       "        text-align: right;\n",
       "    }\n",
       "</style>\n",
       "<table border=\"1\" class=\"dataframe\">\n",
       "  <thead>\n",
       "    <tr style=\"text-align: right;\">\n",
       "      <th></th>\n",
       "      <th>msno</th>\n",
       "      <th>date</th>\n",
       "      <th>num_25</th>\n",
       "      <th>num_50</th>\n",
       "      <th>num_75</th>\n",
       "      <th>num_985</th>\n",
       "      <th>num_100</th>\n",
       "      <th>num_unq</th>\n",
       "      <th>total_secs</th>\n",
       "    </tr>\n",
       "  </thead>\n",
       "  <tbody>\n",
       "    <tr>\n",
       "      <th>0</th>\n",
       "      <td>rxIP2f2aN0rYNp+toI0Obt/N/FYQX8hcO1fTmmy2h34=</td>\n",
       "      <td>20150513</td>\n",
       "      <td>0</td>\n",
       "      <td>0</td>\n",
       "      <td>0</td>\n",
       "      <td>0</td>\n",
       "      <td>1</td>\n",
       "      <td>1</td>\n",
       "      <td>280.335</td>\n",
       "    </tr>\n",
       "    <tr>\n",
       "      <th>1</th>\n",
       "      <td>rxIP2f2aN0rYNp+toI0Obt/N/FYQX8hcO1fTmmy2h34=</td>\n",
       "      <td>20150709</td>\n",
       "      <td>9</td>\n",
       "      <td>1</td>\n",
       "      <td>0</td>\n",
       "      <td>0</td>\n",
       "      <td>7</td>\n",
       "      <td>11</td>\n",
       "      <td>1658.948</td>\n",
       "    </tr>\n",
       "    <tr>\n",
       "      <th>2</th>\n",
       "      <td>yxiEWwE9VR5utpUecLxVdQ5B7NysUPfrNtGINaM2zA8=</td>\n",
       "      <td>20150105</td>\n",
       "      <td>3</td>\n",
       "      <td>3</td>\n",
       "      <td>0</td>\n",
       "      <td>0</td>\n",
       "      <td>68</td>\n",
       "      <td>36</td>\n",
       "      <td>17364.956</td>\n",
       "    </tr>\n",
       "    <tr>\n",
       "      <th>3</th>\n",
       "      <td>yxiEWwE9VR5utpUecLxVdQ5B7NysUPfrNtGINaM2zA8=</td>\n",
       "      <td>20150306</td>\n",
       "      <td>1</td>\n",
       "      <td>0</td>\n",
       "      <td>1</td>\n",
       "      <td>1</td>\n",
       "      <td>97</td>\n",
       "      <td>27</td>\n",
       "      <td>24667.317</td>\n",
       "    </tr>\n",
       "    <tr>\n",
       "      <th>4</th>\n",
       "      <td>yxiEWwE9VR5utpUecLxVdQ5B7NysUPfrNtGINaM2zA8=</td>\n",
       "      <td>20150501</td>\n",
       "      <td>3</td>\n",
       "      <td>0</td>\n",
       "      <td>0</td>\n",
       "      <td>0</td>\n",
       "      <td>38</td>\n",
       "      <td>38</td>\n",
       "      <td>9649.029</td>\n",
       "    </tr>\n",
       "  </tbody>\n",
       "</table>\n",
       "</div>"
      ],
      "text/plain": [
       "                                           msno      date  num_25  num_50  \\\n",
       "0  rxIP2f2aN0rYNp+toI0Obt/N/FYQX8hcO1fTmmy2h34=  20150513       0       0   \n",
       "1  rxIP2f2aN0rYNp+toI0Obt/N/FYQX8hcO1fTmmy2h34=  20150709       9       1   \n",
       "2  yxiEWwE9VR5utpUecLxVdQ5B7NysUPfrNtGINaM2zA8=  20150105       3       3   \n",
       "3  yxiEWwE9VR5utpUecLxVdQ5B7NysUPfrNtGINaM2zA8=  20150306       1       0   \n",
       "4  yxiEWwE9VR5utpUecLxVdQ5B7NysUPfrNtGINaM2zA8=  20150501       3       0   \n",
       "\n",
       "   num_75  num_985  num_100  num_unq  total_secs  \n",
       "0       0        0        1        1     280.335  \n",
       "1       0        0        7       11    1658.948  \n",
       "2       0        0       68       36   17364.956  \n",
       "3       1        1       97       27   24667.317  \n",
       "4       0        0       38       38    9649.029  "
      ]
     },
     "execution_count": 8,
     "metadata": {},
     "output_type": "execute_result"
    }
   ],
   "source": [
    "user_log.head()"
   ]
  },
  {
   "cell_type": "code",
   "execution_count": 9,
   "metadata": {
    "ExecuteTime": {
     "end_time": "2018-07-13T05:26:07.320658Z",
     "start_time": "2018-07-13T05:26:04.846855Z"
    }
   },
   "outputs": [
    {
     "name": "stdout",
     "output_type": "stream",
     "text": [
      "size = 1167.215036392212 MB\n"
     ]
    }
   ],
   "source": [
    "print('size = {} MB'.format(sys.getsizeof(user_log)/1024/1024))"
   ]
  },
  {
   "cell_type": "markdown",
   "metadata": {},
   "source": [
    "$\\Rightarrow$ 약 10초 걸렸으며 메모리 사이즈는 약 1GB"
   ]
  },
  {
   "cell_type": "markdown",
   "metadata": {},
   "source": [
    "### 인별 log 개수 파악"
   ]
  },
  {
   "cell_type": "code",
   "execution_count": 10,
   "metadata": {
    "ExecuteTime": {
     "end_time": "2018-07-13T05:26:14.051554Z",
     "start_time": "2018-07-13T05:26:07.323053Z"
    }
   },
   "outputs": [],
   "source": [
    "tmp_pd = pd.DataFrame(user_log.groupby(['msno']).count()['date']).reset_index()"
   ]
  },
  {
   "cell_type": "code",
   "execution_count": 11,
   "metadata": {
    "ExecuteTime": {
     "end_time": "2018-07-13T05:26:14.064581Z",
     "start_time": "2018-07-13T05:26:14.053663Z"
    }
   },
   "outputs": [
    {
     "data": {
      "text/html": [
       "<div>\n",
       "<style scoped>\n",
       "    .dataframe tbody tr th:only-of-type {\n",
       "        vertical-align: middle;\n",
       "    }\n",
       "\n",
       "    .dataframe tbody tr th {\n",
       "        vertical-align: top;\n",
       "    }\n",
       "\n",
       "    .dataframe thead th {\n",
       "        text-align: right;\n",
       "    }\n",
       "</style>\n",
       "<table border=\"1\" class=\"dataframe\">\n",
       "  <thead>\n",
       "    <tr style=\"text-align: right;\">\n",
       "      <th></th>\n",
       "      <th>msno</th>\n",
       "      <th>date</th>\n",
       "    </tr>\n",
       "  </thead>\n",
       "  <tbody>\n",
       "    <tr>\n",
       "      <th>0</th>\n",
       "      <td>+++FOrTS7ab3tIgIh8eWwX4FqRv8w/FoiOuyXsFvphY=</td>\n",
       "      <td>1</td>\n",
       "    </tr>\n",
       "    <tr>\n",
       "      <th>1</th>\n",
       "      <td>+++IZseRRiQS9aaSkH6cMYU6bGDcxUieAi/tH67sC5s=</td>\n",
       "      <td>12</td>\n",
       "    </tr>\n",
       "    <tr>\n",
       "      <th>2</th>\n",
       "      <td>+++dz9ZCWE2HB/47pJU82NJXQzQuZDx1Wm50YSk/kKk=</td>\n",
       "      <td>1</td>\n",
       "    </tr>\n",
       "    <tr>\n",
       "      <th>3</th>\n",
       "      <td>+++hVY1rZox/33YtvDgmKA2Frg/2qhkz12B9ylCvh8o=</td>\n",
       "      <td>2</td>\n",
       "    </tr>\n",
       "    <tr>\n",
       "      <th>4</th>\n",
       "      <td>+++l/EXNMLTijfLBa8p2TUVVVp2aFGSuUI/h7mLmthw=</td>\n",
       "      <td>12</td>\n",
       "    </tr>\n",
       "  </tbody>\n",
       "</table>\n",
       "</div>"
      ],
      "text/plain": [
       "                                           msno  date\n",
       "0  +++FOrTS7ab3tIgIh8eWwX4FqRv8w/FoiOuyXsFvphY=     1\n",
       "1  +++IZseRRiQS9aaSkH6cMYU6bGDcxUieAi/tH67sC5s=    12\n",
       "2  +++dz9ZCWE2HB/47pJU82NJXQzQuZDx1Wm50YSk/kKk=     1\n",
       "3  +++hVY1rZox/33YtvDgmKA2Frg/2qhkz12B9ylCvh8o=     2\n",
       "4  +++l/EXNMLTijfLBa8p2TUVVVp2aFGSuUI/h7mLmthw=    12"
      ]
     },
     "execution_count": 11,
     "metadata": {},
     "output_type": "execute_result"
    }
   ],
   "source": [
    "tmp_pd.head()"
   ]
  },
  {
   "cell_type": "code",
   "execution_count": 12,
   "metadata": {
    "ExecuteTime": {
     "end_time": "2018-07-13T05:26:16.601039Z",
     "start_time": "2018-07-13T05:26:14.066697Z"
    }
   },
   "outputs": [
    {
     "data": {
      "text/html": [
       "\n",
       "    <div class=\"bk-root\">\n",
       "        <a href=\"https://bokeh.pydata.org\" target=\"_blank\" class=\"bk-logo bk-logo-small bk-logo-notebook\"></a>\n",
       "        <span id=\"b676141c-a0cd-40df-bde1-40dd111d298f\">Loading BokehJS ...</span>\n",
       "    </div>"
      ]
     },
     "metadata": {},
     "output_type": "display_data"
    },
    {
     "data": {
      "application/javascript": [
       "\n",
       "(function(root) {\n",
       "  function now() {\n",
       "    return new Date();\n",
       "  }\n",
       "\n",
       "  var force = true;\n",
       "\n",
       "  if (typeof (root._bokeh_onload_callbacks) === \"undefined\" || force === true) {\n",
       "    root._bokeh_onload_callbacks = [];\n",
       "    root._bokeh_is_loading = undefined;\n",
       "  }\n",
       "\n",
       "  var JS_MIME_TYPE = 'application/javascript';\n",
       "  var HTML_MIME_TYPE = 'text/html';\n",
       "  var EXEC_MIME_TYPE = 'application/vnd.bokehjs_exec.v0+json';\n",
       "  var CLASS_NAME = 'output_bokeh rendered_html';\n",
       "\n",
       "  /**\n",
       "   * Render data to the DOM node\n",
       "   */\n",
       "  function render(props, node) {\n",
       "    var script = document.createElement(\"script\");\n",
       "    node.appendChild(script);\n",
       "  }\n",
       "\n",
       "  /**\n",
       "   * Handle when an output is cleared or removed\n",
       "   */\n",
       "  function handleClearOutput(event, handle) {\n",
       "    var cell = handle.cell;\n",
       "\n",
       "    var id = cell.output_area._bokeh_element_id;\n",
       "    var server_id = cell.output_area._bokeh_server_id;\n",
       "    // Clean up Bokeh references\n",
       "    if (id != null && id in Bokeh.index) {\n",
       "      Bokeh.index[id].model.document.clear();\n",
       "      delete Bokeh.index[id];\n",
       "    }\n",
       "\n",
       "    if (server_id !== undefined) {\n",
       "      // Clean up Bokeh references\n",
       "      var cmd = \"from bokeh.io.state import curstate; print(curstate().uuid_to_server['\" + server_id + \"'].get_sessions()[0].document.roots[0]._id)\";\n",
       "      cell.notebook.kernel.execute(cmd, {\n",
       "        iopub: {\n",
       "          output: function(msg) {\n",
       "            var id = msg.content.text.trim();\n",
       "            if (id in Bokeh.index) {\n",
       "              Bokeh.index[id].model.document.clear();\n",
       "              delete Bokeh.index[id];\n",
       "            }\n",
       "          }\n",
       "        }\n",
       "      });\n",
       "      // Destroy server and session\n",
       "      var cmd = \"import bokeh.io.notebook as ion; ion.destroy_server('\" + server_id + \"')\";\n",
       "      cell.notebook.kernel.execute(cmd);\n",
       "    }\n",
       "  }\n",
       "\n",
       "  /**\n",
       "   * Handle when a new output is added\n",
       "   */\n",
       "  function handleAddOutput(event, handle) {\n",
       "    var output_area = handle.output_area;\n",
       "    var output = handle.output;\n",
       "\n",
       "    // limit handleAddOutput to display_data with EXEC_MIME_TYPE content only\n",
       "    if ((output.output_type != \"display_data\") || (!output.data.hasOwnProperty(EXEC_MIME_TYPE))) {\n",
       "      return\n",
       "    }\n",
       "\n",
       "    var toinsert = output_area.element.find(\".\" + CLASS_NAME.split(' ')[0]);\n",
       "\n",
       "    if (output.metadata[EXEC_MIME_TYPE][\"id\"] !== undefined) {\n",
       "      toinsert[toinsert.length - 1].firstChild.textContent = output.data[JS_MIME_TYPE];\n",
       "      // store reference to embed id on output_area\n",
       "      output_area._bokeh_element_id = output.metadata[EXEC_MIME_TYPE][\"id\"];\n",
       "    }\n",
       "    if (output.metadata[EXEC_MIME_TYPE][\"server_id\"] !== undefined) {\n",
       "      var bk_div = document.createElement(\"div\");\n",
       "      bk_div.innerHTML = output.data[HTML_MIME_TYPE];\n",
       "      var script_attrs = bk_div.children[0].attributes;\n",
       "      for (var i = 0; i < script_attrs.length; i++) {\n",
       "        toinsert[toinsert.length - 1].firstChild.setAttribute(script_attrs[i].name, script_attrs[i].value);\n",
       "      }\n",
       "      // store reference to server id on output_area\n",
       "      output_area._bokeh_server_id = output.metadata[EXEC_MIME_TYPE][\"server_id\"];\n",
       "    }\n",
       "  }\n",
       "\n",
       "  function register_renderer(events, OutputArea) {\n",
       "\n",
       "    function append_mime(data, metadata, element) {\n",
       "      // create a DOM node to render to\n",
       "      var toinsert = this.create_output_subarea(\n",
       "        metadata,\n",
       "        CLASS_NAME,\n",
       "        EXEC_MIME_TYPE\n",
       "      );\n",
       "      this.keyboard_manager.register_events(toinsert);\n",
       "      // Render to node\n",
       "      var props = {data: data, metadata: metadata[EXEC_MIME_TYPE]};\n",
       "      render(props, toinsert[toinsert.length - 1]);\n",
       "      element.append(toinsert);\n",
       "      return toinsert\n",
       "    }\n",
       "\n",
       "    /* Handle when an output is cleared or removed */\n",
       "    events.on('clear_output.CodeCell', handleClearOutput);\n",
       "    events.on('delete.Cell', handleClearOutput);\n",
       "\n",
       "    /* Handle when a new output is added */\n",
       "    events.on('output_added.OutputArea', handleAddOutput);\n",
       "\n",
       "    /**\n",
       "     * Register the mime type and append_mime function with output_area\n",
       "     */\n",
       "    OutputArea.prototype.register_mime_type(EXEC_MIME_TYPE, append_mime, {\n",
       "      /* Is output safe? */\n",
       "      safe: true,\n",
       "      /* Index of renderer in `output_area.display_order` */\n",
       "      index: 0\n",
       "    });\n",
       "  }\n",
       "\n",
       "  // register the mime type if in Jupyter Notebook environment and previously unregistered\n",
       "  if (root.Jupyter !== undefined) {\n",
       "    var events = require('base/js/events');\n",
       "    var OutputArea = require('notebook/js/outputarea').OutputArea;\n",
       "\n",
       "    if (OutputArea.prototype.mime_types().indexOf(EXEC_MIME_TYPE) == -1) {\n",
       "      register_renderer(events, OutputArea);\n",
       "    }\n",
       "  }\n",
       "\n",
       "  \n",
       "  if (typeof (root._bokeh_timeout) === \"undefined\" || force === true) {\n",
       "    root._bokeh_timeout = Date.now() + 5000;\n",
       "    root._bokeh_failed_load = false;\n",
       "  }\n",
       "\n",
       "  var NB_LOAD_WARNING = {'data': {'text/html':\n",
       "     \"<div style='background-color: #fdd'>\\n\"+\n",
       "     \"<p>\\n\"+\n",
       "     \"BokehJS does not appear to have successfully loaded. If loading BokehJS from CDN, this \\n\"+\n",
       "     \"may be due to a slow or bad network connection. Possible fixes:\\n\"+\n",
       "     \"</p>\\n\"+\n",
       "     \"<ul>\\n\"+\n",
       "     \"<li>re-rerun `output_notebook()` to attempt to load from CDN again, or</li>\\n\"+\n",
       "     \"<li>use INLINE resources instead, as so:</li>\\n\"+\n",
       "     \"</ul>\\n\"+\n",
       "     \"<code>\\n\"+\n",
       "     \"from bokeh.resources import INLINE\\n\"+\n",
       "     \"output_notebook(resources=INLINE)\\n\"+\n",
       "     \"</code>\\n\"+\n",
       "     \"</div>\"}};\n",
       "\n",
       "  function display_loaded() {\n",
       "    var el = document.getElementById(\"b676141c-a0cd-40df-bde1-40dd111d298f\");\n",
       "    if (el != null) {\n",
       "      el.textContent = \"BokehJS is loading...\";\n",
       "    }\n",
       "    if (root.Bokeh !== undefined) {\n",
       "      if (el != null) {\n",
       "        el.textContent = \"BokehJS \" + root.Bokeh.version + \" successfully loaded.\";\n",
       "      }\n",
       "    } else if (Date.now() < root._bokeh_timeout) {\n",
       "      setTimeout(display_loaded, 100)\n",
       "    }\n",
       "  }\n",
       "\n",
       "\n",
       "  function run_callbacks() {\n",
       "    try {\n",
       "      root._bokeh_onload_callbacks.forEach(function(callback) { callback() });\n",
       "    }\n",
       "    finally {\n",
       "      delete root._bokeh_onload_callbacks\n",
       "    }\n",
       "    console.info(\"Bokeh: all callbacks have finished\");\n",
       "  }\n",
       "\n",
       "  function load_libs(js_urls, callback) {\n",
       "    root._bokeh_onload_callbacks.push(callback);\n",
       "    if (root._bokeh_is_loading > 0) {\n",
       "      console.log(\"Bokeh: BokehJS is being loaded, scheduling callback at\", now());\n",
       "      return null;\n",
       "    }\n",
       "    if (js_urls == null || js_urls.length === 0) {\n",
       "      run_callbacks();\n",
       "      return null;\n",
       "    }\n",
       "    console.log(\"Bokeh: BokehJS not loaded, scheduling load and callback at\", now());\n",
       "    root._bokeh_is_loading = js_urls.length;\n",
       "    for (var i = 0; i < js_urls.length; i++) {\n",
       "      var url = js_urls[i];\n",
       "      var s = document.createElement('script');\n",
       "      s.src = url;\n",
       "      s.async = false;\n",
       "      s.onreadystatechange = s.onload = function() {\n",
       "        root._bokeh_is_loading--;\n",
       "        if (root._bokeh_is_loading === 0) {\n",
       "          console.log(\"Bokeh: all BokehJS libraries loaded\");\n",
       "          run_callbacks()\n",
       "        }\n",
       "      };\n",
       "      s.onerror = function() {\n",
       "        console.warn(\"failed to load library \" + url);\n",
       "      };\n",
       "      console.log(\"Bokeh: injecting script tag for BokehJS library: \", url);\n",
       "      document.getElementsByTagName(\"head\")[0].appendChild(s);\n",
       "    }\n",
       "  };var element = document.getElementById(\"b676141c-a0cd-40df-bde1-40dd111d298f\");\n",
       "  if (element == null) {\n",
       "    console.log(\"Bokeh: ERROR: autoload.js configured with elementid 'b676141c-a0cd-40df-bde1-40dd111d298f' but no matching script tag was found. \")\n",
       "    return false;\n",
       "  }\n",
       "\n",
       "  var js_urls = [\"https://cdn.pydata.org/bokeh/release/bokeh-0.13.0.min.js\", \"https://cdn.pydata.org/bokeh/release/bokeh-widgets-0.13.0.min.js\", \"https://cdn.pydata.org/bokeh/release/bokeh-tables-0.13.0.min.js\", \"https://cdn.pydata.org/bokeh/release/bokeh-gl-0.13.0.min.js\"];\n",
       "\n",
       "  var inline_js = [\n",
       "    function(Bokeh) {\n",
       "      Bokeh.set_log_level(\"info\");\n",
       "    },\n",
       "    \n",
       "    function(Bokeh) {\n",
       "      \n",
       "    },\n",
       "    function(Bokeh) {\n",
       "      console.log(\"Bokeh: injecting CSS: https://cdn.pydata.org/bokeh/release/bokeh-0.13.0.min.css\");\n",
       "      Bokeh.embed.inject_css(\"https://cdn.pydata.org/bokeh/release/bokeh-0.13.0.min.css\");\n",
       "      console.log(\"Bokeh: injecting CSS: https://cdn.pydata.org/bokeh/release/bokeh-widgets-0.13.0.min.css\");\n",
       "      Bokeh.embed.inject_css(\"https://cdn.pydata.org/bokeh/release/bokeh-widgets-0.13.0.min.css\");\n",
       "      console.log(\"Bokeh: injecting CSS: https://cdn.pydata.org/bokeh/release/bokeh-tables-0.13.0.min.css\");\n",
       "      Bokeh.embed.inject_css(\"https://cdn.pydata.org/bokeh/release/bokeh-tables-0.13.0.min.css\");\n",
       "    }\n",
       "  ];\n",
       "\n",
       "  function run_inline_js() {\n",
       "    \n",
       "    if ((root.Bokeh !== undefined) || (force === true)) {\n",
       "      for (var i = 0; i < inline_js.length; i++) {\n",
       "        inline_js[i].call(root, root.Bokeh);\n",
       "      }if (force === true) {\n",
       "        display_loaded();\n",
       "      }} else if (Date.now() < root._bokeh_timeout) {\n",
       "      setTimeout(run_inline_js, 100);\n",
       "    } else if (!root._bokeh_failed_load) {\n",
       "      console.log(\"Bokeh: BokehJS failed to load within specified timeout.\");\n",
       "      root._bokeh_failed_load = true;\n",
       "    } else if (force !== true) {\n",
       "      var cell = $(document.getElementById(\"b676141c-a0cd-40df-bde1-40dd111d298f\")).parents('.cell').data().cell;\n",
       "      cell.output_area.append_execute_result(NB_LOAD_WARNING)\n",
       "    }\n",
       "\n",
       "  }\n",
       "\n",
       "  if (root._bokeh_is_loading === 0) {\n",
       "    console.log(\"Bokeh: BokehJS loaded, going straight to plotting\");\n",
       "    run_inline_js();\n",
       "  } else {\n",
       "    load_libs(js_urls, function() {\n",
       "      console.log(\"Bokeh: BokehJS plotting callback run at\", now());\n",
       "      run_inline_js();\n",
       "    });\n",
       "  }\n",
       "}(window));"
      ],
      "application/vnd.bokehjs_load.v0+json": "\n(function(root) {\n  function now() {\n    return new Date();\n  }\n\n  var force = true;\n\n  if (typeof (root._bokeh_onload_callbacks) === \"undefined\" || force === true) {\n    root._bokeh_onload_callbacks = [];\n    root._bokeh_is_loading = undefined;\n  }\n\n  \n\n  \n  if (typeof (root._bokeh_timeout) === \"undefined\" || force === true) {\n    root._bokeh_timeout = Date.now() + 5000;\n    root._bokeh_failed_load = false;\n  }\n\n  var NB_LOAD_WARNING = {'data': {'text/html':\n     \"<div style='background-color: #fdd'>\\n\"+\n     \"<p>\\n\"+\n     \"BokehJS does not appear to have successfully loaded. If loading BokehJS from CDN, this \\n\"+\n     \"may be due to a slow or bad network connection. Possible fixes:\\n\"+\n     \"</p>\\n\"+\n     \"<ul>\\n\"+\n     \"<li>re-rerun `output_notebook()` to attempt to load from CDN again, or</li>\\n\"+\n     \"<li>use INLINE resources instead, as so:</li>\\n\"+\n     \"</ul>\\n\"+\n     \"<code>\\n\"+\n     \"from bokeh.resources import INLINE\\n\"+\n     \"output_notebook(resources=INLINE)\\n\"+\n     \"</code>\\n\"+\n     \"</div>\"}};\n\n  function display_loaded() {\n    var el = document.getElementById(\"b676141c-a0cd-40df-bde1-40dd111d298f\");\n    if (el != null) {\n      el.textContent = \"BokehJS is loading...\";\n    }\n    if (root.Bokeh !== undefined) {\n      if (el != null) {\n        el.textContent = \"BokehJS \" + root.Bokeh.version + \" successfully loaded.\";\n      }\n    } else if (Date.now() < root._bokeh_timeout) {\n      setTimeout(display_loaded, 100)\n    }\n  }\n\n\n  function run_callbacks() {\n    try {\n      root._bokeh_onload_callbacks.forEach(function(callback) { callback() });\n    }\n    finally {\n      delete root._bokeh_onload_callbacks\n    }\n    console.info(\"Bokeh: all callbacks have finished\");\n  }\n\n  function load_libs(js_urls, callback) {\n    root._bokeh_onload_callbacks.push(callback);\n    if (root._bokeh_is_loading > 0) {\n      console.log(\"Bokeh: BokehJS is being loaded, scheduling callback at\", now());\n      return null;\n    }\n    if (js_urls == null || js_urls.length === 0) {\n      run_callbacks();\n      return null;\n    }\n    console.log(\"Bokeh: BokehJS not loaded, scheduling load and callback at\", now());\n    root._bokeh_is_loading = js_urls.length;\n    for (var i = 0; i < js_urls.length; i++) {\n      var url = js_urls[i];\n      var s = document.createElement('script');\n      s.src = url;\n      s.async = false;\n      s.onreadystatechange = s.onload = function() {\n        root._bokeh_is_loading--;\n        if (root._bokeh_is_loading === 0) {\n          console.log(\"Bokeh: all BokehJS libraries loaded\");\n          run_callbacks()\n        }\n      };\n      s.onerror = function() {\n        console.warn(\"failed to load library \" + url);\n      };\n      console.log(\"Bokeh: injecting script tag for BokehJS library: \", url);\n      document.getElementsByTagName(\"head\")[0].appendChild(s);\n    }\n  };var element = document.getElementById(\"b676141c-a0cd-40df-bde1-40dd111d298f\");\n  if (element == null) {\n    console.log(\"Bokeh: ERROR: autoload.js configured with elementid 'b676141c-a0cd-40df-bde1-40dd111d298f' but no matching script tag was found. \")\n    return false;\n  }\n\n  var js_urls = [\"https://cdn.pydata.org/bokeh/release/bokeh-0.13.0.min.js\", \"https://cdn.pydata.org/bokeh/release/bokeh-widgets-0.13.0.min.js\", \"https://cdn.pydata.org/bokeh/release/bokeh-tables-0.13.0.min.js\", \"https://cdn.pydata.org/bokeh/release/bokeh-gl-0.13.0.min.js\"];\n\n  var inline_js = [\n    function(Bokeh) {\n      Bokeh.set_log_level(\"info\");\n    },\n    \n    function(Bokeh) {\n      \n    },\n    function(Bokeh) {\n      console.log(\"Bokeh: injecting CSS: https://cdn.pydata.org/bokeh/release/bokeh-0.13.0.min.css\");\n      Bokeh.embed.inject_css(\"https://cdn.pydata.org/bokeh/release/bokeh-0.13.0.min.css\");\n      console.log(\"Bokeh: injecting CSS: https://cdn.pydata.org/bokeh/release/bokeh-widgets-0.13.0.min.css\");\n      Bokeh.embed.inject_css(\"https://cdn.pydata.org/bokeh/release/bokeh-widgets-0.13.0.min.css\");\n      console.log(\"Bokeh: injecting CSS: https://cdn.pydata.org/bokeh/release/bokeh-tables-0.13.0.min.css\");\n      Bokeh.embed.inject_css(\"https://cdn.pydata.org/bokeh/release/bokeh-tables-0.13.0.min.css\");\n    }\n  ];\n\n  function run_inline_js() {\n    \n    if ((root.Bokeh !== undefined) || (force === true)) {\n      for (var i = 0; i < inline_js.length; i++) {\n        inline_js[i].call(root, root.Bokeh);\n      }if (force === true) {\n        display_loaded();\n      }} else if (Date.now() < root._bokeh_timeout) {\n      setTimeout(run_inline_js, 100);\n    } else if (!root._bokeh_failed_load) {\n      console.log(\"Bokeh: BokehJS failed to load within specified timeout.\");\n      root._bokeh_failed_load = true;\n    } else if (force !== true) {\n      var cell = $(document.getElementById(\"b676141c-a0cd-40df-bde1-40dd111d298f\")).parents('.cell').data().cell;\n      cell.output_area.append_execute_result(NB_LOAD_WARNING)\n    }\n\n  }\n\n  if (root._bokeh_is_loading === 0) {\n    console.log(\"Bokeh: BokehJS loaded, going straight to plotting\");\n    run_inline_js();\n  } else {\n    load_libs(js_urls, function() {\n      console.log(\"Bokeh: BokehJS plotting callback run at\", now());\n      run_inline_js();\n    });\n  }\n}(window));"
     },
     "metadata": {},
     "output_type": "display_data"
    }
   ],
   "source": [
    "import numpy as np\n",
    "import scipy.special\n",
    "\n",
    "from bokeh.layouts import gridplot\n",
    "from bokeh.plotting import figure, show, output_file\n",
    "from bokeh.io import show, output_file, output_notebook\n",
    "from bokeh.models import ColumnDataSource\n",
    "from bokeh.palettes import Spectral5, Oranges9, Viridis256\n",
    "from bokeh.sampledata.autompg import autompg as df\n",
    "from bokeh.transform import factor_cmap\n",
    "output_notebook()"
   ]
  },
  {
   "cell_type": "code",
   "execution_count": 13,
   "metadata": {
    "ExecuteTime": {
     "end_time": "2018-07-13T05:26:18.047420Z",
     "start_time": "2018-07-13T05:26:16.603239Z"
    }
   },
   "outputs": [],
   "source": [
    "p1 = figure(title=\"Distribution of logs\",tools=\"save\", background_fill_color=\"#E8DDCB\")\n",
    "hist, edges = np.histogram(tmp_pd['date'], density=True)"
   ]
  },
  {
   "cell_type": "code",
   "execution_count": 24,
   "metadata": {
    "scrolled": true
   },
   "outputs": [
    {
     "data": {
      "text/plain": [
       "array([0.26299566, 0.09669029, 0.03802282, 0.06549791, 0.02728199,\n",
       "       0.04597413, 0.03918554, 0.01772708, 0.02869043, 0.00293414])"
      ]
     },
     "execution_count": 24,
     "metadata": {},
     "output_type": "execute_result"
    }
   ],
   "source": [
    "hist"
   ]
  },
  {
   "cell_type": "code",
   "execution_count": 25,
   "metadata": {},
   "outputs": [
    {
     "data": {
      "text/plain": [
       "array([ 1. ,  2.6,  4.2,  5.8,  7.4,  9. , 10.6, 12.2, 13.8, 15.4, 17. ])"
      ]
     },
     "execution_count": 25,
     "metadata": {},
     "output_type": "execute_result"
    }
   ],
   "source": [
    "edges"
   ]
  },
  {
   "cell_type": "code",
   "execution_count": 14,
   "metadata": {
    "ExecuteTime": {
     "end_time": "2018-07-13T05:26:20.087078Z",
     "start_time": "2018-07-13T05:26:18.050176Z"
    }
   },
   "outputs": [
    {
     "data": {
      "text/html": [
       "<div>\n",
       "<style scoped>\n",
       "    .dataframe tbody tr th:only-of-type {\n",
       "        vertical-align: middle;\n",
       "    }\n",
       "\n",
       "    .dataframe tbody tr th {\n",
       "        vertical-align: top;\n",
       "    }\n",
       "\n",
       "    .dataframe thead th {\n",
       "        text-align: right;\n",
       "    }\n",
       "</style>\n",
       "<table border=\"1\" class=\"dataframe\">\n",
       "  <thead>\n",
       "    <tr style=\"text-align: right;\">\n",
       "      <th></th>\n",
       "      <th>date</th>\n",
       "    </tr>\n",
       "  </thead>\n",
       "  <tbody>\n",
       "    <tr>\n",
       "      <th>count</th>\n",
       "      <td>1.508321e+06</td>\n",
       "    </tr>\n",
       "    <tr>\n",
       "      <th>mean</th>\n",
       "      <td>4.917825e+00</td>\n",
       "    </tr>\n",
       "    <tr>\n",
       "      <th>std</th>\n",
       "      <td>4.202067e+00</td>\n",
       "    </tr>\n",
       "    <tr>\n",
       "      <th>min</th>\n",
       "      <td>1.000000e+00</td>\n",
       "    </tr>\n",
       "    <tr>\n",
       "      <th>25%</th>\n",
       "      <td>1.000000e+00</td>\n",
       "    </tr>\n",
       "    <tr>\n",
       "      <th>50%</th>\n",
       "      <td>3.000000e+00</td>\n",
       "    </tr>\n",
       "    <tr>\n",
       "      <th>75%</th>\n",
       "      <td>8.000000e+00</td>\n",
       "    </tr>\n",
       "    <tr>\n",
       "      <th>max</th>\n",
       "      <td>1.700000e+01</td>\n",
       "    </tr>\n",
       "  </tbody>\n",
       "</table>\n",
       "</div>"
      ],
      "text/plain": [
       "               date\n",
       "count  1.508321e+06\n",
       "mean   4.917825e+00\n",
       "std    4.202067e+00\n",
       "min    1.000000e+00\n",
       "25%    1.000000e+00\n",
       "50%    3.000000e+00\n",
       "75%    8.000000e+00\n",
       "max    1.700000e+01"
      ]
     },
     "execution_count": 14,
     "metadata": {},
     "output_type": "execute_result"
    }
   ],
   "source": [
    "# 각 column별로 요약자료임\n",
    "tmp_pd.describe()"
   ]
  },
  {
   "cell_type": "code",
   "execution_count": 15,
   "metadata": {
    "ExecuteTime": {
     "end_time": "2018-07-13T05:26:21.758177Z",
     "start_time": "2018-07-13T05:26:20.089640Z"
    }
   },
   "outputs": [
    {
     "data": {
      "text/html": [
       "\n",
       "\n",
       "\n",
       "\n",
       "\n",
       "\n",
       "  <div class=\"bk-root\" id=\"233f714b-c0b5-4880-b44d-9ac693f25e1f\"></div>\n"
      ]
     },
     "metadata": {},
     "output_type": "display_data"
    },
    {
     "data": {
      "application/javascript": [
       "(function(root) {\n",
       "  function embed_document(root) {\n",
       "    \n",
       "  var docs_json = {\"84d3678e-d12a-4663-8e59-c2057520dafc\":{\"roots\":{\"references\":[{\"attributes\":{},\"id\":\"fbe1297f-a267-4d50-8420-0cbfa522abde\",\"type\":\"BasicTickFormatter\"},{\"attributes\":{},\"id\":\"9b269aa0-90bf-4cc5-8ba1-c48c0579656d\",\"type\":\"Selection\"},{\"attributes\":{},\"id\":\"89c46460-e182-41be-be32-f4759d1c3746\",\"type\":\"BasicTicker\"},{\"attributes\":{},\"id\":\"079a7818-780d-4d01-bc61-2e6e16d2a7ff\",\"type\":\"BasicTickFormatter\"},{\"attributes\":{},\"id\":\"f4d73398-5d90-42fe-a049-73e8af31a6e7\",\"type\":\"UnionRenderers\"},{\"attributes\":{},\"id\":\"c1b7451b-d91d-4e08-9f0e-5fa0d609ba88\",\"type\":\"SaveTool\"},{\"attributes\":{\"callback\":null},\"id\":\"9b6864d9-f501-4cf3-988f-397bdcb9d9cd\",\"type\":\"DataRange1d\"},{\"attributes\":{\"plot\":{\"id\":\"a96c41ff-0fc9-415c-8a50-27223b5252f5\",\"subtype\":\"Figure\",\"type\":\"Plot\"},\"ticker\":{\"id\":\"89c46460-e182-41be-be32-f4759d1c3746\",\"type\":\"BasicTicker\"}},\"id\":\"95b1a693-5765-43c3-9cdb-7071ccaa96d7\",\"type\":\"Grid\"},{\"attributes\":{\"bottom\":{\"value\":0},\"fill_alpha\":{\"value\":0.1},\"fill_color\":{\"value\":\"#1f77b4\"},\"left\":{\"field\":\"left\"},\"line_alpha\":{\"value\":0.1},\"line_color\":{\"value\":\"#1f77b4\"},\"right\":{\"field\":\"right\"},\"top\":{\"field\":\"top\"}},\"id\":\"50df35b8-6802-421f-a6ff-81866e7b0655\",\"type\":\"Quad\"},{\"attributes\":{\"plot\":null,\"text\":\"Distribution of logs\"},\"id\":\"72c65aa2-0fa8-4c1d-943d-6e61912833f1\",\"type\":\"Title\"},{\"attributes\":{},\"id\":\"3a3647ee-f602-4339-9df9-bcccccec5768\",\"type\":\"BasicTicker\"},{\"attributes\":{\"axis_label\":\"# of logs\",\"formatter\":{\"id\":\"fbe1297f-a267-4d50-8420-0cbfa522abde\",\"type\":\"BasicTickFormatter\"},\"plot\":{\"id\":\"a96c41ff-0fc9-415c-8a50-27223b5252f5\",\"subtype\":\"Figure\",\"type\":\"Plot\"},\"ticker\":{\"id\":\"89c46460-e182-41be-be32-f4759d1c3746\",\"type\":\"BasicTicker\"}},\"id\":\"cb32d0f7-878a-4ac2-9d9e-80ad47758045\",\"type\":\"LinearAxis\"},{\"attributes\":{\"bottom\":{\"value\":0},\"fill_color\":{\"value\":\"#036564\"},\"left\":{\"field\":\"left\"},\"line_color\":{\"value\":\"#033649\"},\"right\":{\"field\":\"right\"},\"top\":{\"field\":\"top\"}},\"id\":\"ef7e5434-d96d-402a-bd1c-da4a5a19bd20\",\"type\":\"Quad\"},{\"attributes\":{\"active_drag\":\"auto\",\"active_inspect\":\"auto\",\"active_multi\":null,\"active_scroll\":\"auto\",\"active_tap\":\"auto\",\"tools\":[{\"id\":\"c1b7451b-d91d-4e08-9f0e-5fa0d609ba88\",\"type\":\"SaveTool\"}]},\"id\":\"c53d2b9d-7be7-4988-8e5f-25128565f0f9\",\"type\":\"Toolbar\"},{\"attributes\":{},\"id\":\"af9c03cd-7976-4c2c-91f3-4cdd6c457dff\",\"type\":\"LinearScale\"},{\"attributes\":{\"callback\":null,\"data\":{\"left\":{\"__ndarray__\":\"AAAAAAAA8D/NzMzMzMwEQM3MzMzMzBBANDMzMzMzF0CamZmZmZkdQAAAAAAAACJANDMzMzMzJUBnZmZmZmYoQJqZmZmZmStAzczMzMzMLkA=\",\"dtype\":\"float64\",\"shape\":[10]},\"right\":{\"__ndarray__\":\"zczMzMzMBEDNzMzMzMwQQDQzMzMzMxdAmpmZmZmZHUAAAAAAAAAiQDQzMzMzMyVAZ2ZmZmZmKECamZmZmZkrQM3MzMzMzC5AAAAAAAAAMUA=\",\"dtype\":\"float64\",\"shape\":[10]},\"top\":{\"__ndarray__\":\"6kpUvuvU0D9Df+fvscC4P/6AUkm6d6M/p2rKmnjEsD/JvA9tz++bP9rE6Onriac/JpeilSAQpD9OD0McDCeSP/qjSQcGYZ0/Kv3bbFYJaD8=\",\"dtype\":\"float64\",\"shape\":[10]}},\"selected\":{\"id\":\"9b269aa0-90bf-4cc5-8ba1-c48c0579656d\",\"type\":\"Selection\"},\"selection_policy\":{\"id\":\"f4d73398-5d90-42fe-a049-73e8af31a6e7\",\"type\":\"UnionRenderers\"}},\"id\":\"f9c534a7-5d2a-4680-b507-d2d82d03c973\",\"type\":\"ColumnDataSource\"},{\"attributes\":{\"axis_label\":\"density\",\"formatter\":{\"id\":\"079a7818-780d-4d01-bc61-2e6e16d2a7ff\",\"type\":\"BasicTickFormatter\"},\"plot\":{\"id\":\"a96c41ff-0fc9-415c-8a50-27223b5252f5\",\"subtype\":\"Figure\",\"type\":\"Plot\"},\"ticker\":{\"id\":\"3a3647ee-f602-4339-9df9-bcccccec5768\",\"type\":\"BasicTicker\"}},\"id\":\"c3a3ab90-c049-488a-84ba-914951206e8a\",\"type\":\"LinearAxis\"},{\"attributes\":{\"callback\":null},\"id\":\"7b918a83-6817-49ed-93bf-24433920a86f\",\"type\":\"DataRange1d\"},{\"attributes\":{\"dimension\":1,\"plot\":{\"id\":\"a96c41ff-0fc9-415c-8a50-27223b5252f5\",\"subtype\":\"Figure\",\"type\":\"Plot\"},\"ticker\":{\"id\":\"3a3647ee-f602-4339-9df9-bcccccec5768\",\"type\":\"BasicTicker\"}},\"id\":\"9f7f161d-50c4-41a1-940d-72ab4c4b75a2\",\"type\":\"Grid\"},{\"attributes\":{},\"id\":\"4b4efb6b-e545-4432-a86d-5a8cae4dde9d\",\"type\":\"LinearScale\"},{\"attributes\":{\"data_source\":{\"id\":\"f9c534a7-5d2a-4680-b507-d2d82d03c973\",\"type\":\"ColumnDataSource\"},\"glyph\":{\"id\":\"ef7e5434-d96d-402a-bd1c-da4a5a19bd20\",\"type\":\"Quad\"},\"hover_glyph\":null,\"muted_glyph\":null,\"nonselection_glyph\":{\"id\":\"50df35b8-6802-421f-a6ff-81866e7b0655\",\"type\":\"Quad\"},\"selection_glyph\":null,\"view\":{\"id\":\"eeb947d8-2fcf-41cd-b1e3-7442717e1ce6\",\"type\":\"CDSView\"}},\"id\":\"b0d07d82-866f-4840-b377-96cd0f0ae663\",\"type\":\"GlyphRenderer\"},{\"attributes\":{\"background_fill_color\":{\"value\":\"#E8DDCB\"},\"below\":[{\"id\":\"cb32d0f7-878a-4ac2-9d9e-80ad47758045\",\"type\":\"LinearAxis\"}],\"left\":[{\"id\":\"c3a3ab90-c049-488a-84ba-914951206e8a\",\"type\":\"LinearAxis\"}],\"renderers\":[{\"id\":\"cb32d0f7-878a-4ac2-9d9e-80ad47758045\",\"type\":\"LinearAxis\"},{\"id\":\"95b1a693-5765-43c3-9cdb-7071ccaa96d7\",\"type\":\"Grid\"},{\"id\":\"c3a3ab90-c049-488a-84ba-914951206e8a\",\"type\":\"LinearAxis\"},{\"id\":\"9f7f161d-50c4-41a1-940d-72ab4c4b75a2\",\"type\":\"Grid\"},{\"id\":\"b0d07d82-866f-4840-b377-96cd0f0ae663\",\"type\":\"GlyphRenderer\"}],\"title\":{\"id\":\"72c65aa2-0fa8-4c1d-943d-6e61912833f1\",\"type\":\"Title\"},\"toolbar\":{\"id\":\"c53d2b9d-7be7-4988-8e5f-25128565f0f9\",\"type\":\"Toolbar\"},\"x_range\":{\"id\":\"7b918a83-6817-49ed-93bf-24433920a86f\",\"type\":\"DataRange1d\"},\"x_scale\":{\"id\":\"4b4efb6b-e545-4432-a86d-5a8cae4dde9d\",\"type\":\"LinearScale\"},\"y_range\":{\"id\":\"9b6864d9-f501-4cf3-988f-397bdcb9d9cd\",\"type\":\"DataRange1d\"},\"y_scale\":{\"id\":\"af9c03cd-7976-4c2c-91f3-4cdd6c457dff\",\"type\":\"LinearScale\"}},\"id\":\"a96c41ff-0fc9-415c-8a50-27223b5252f5\",\"subtype\":\"Figure\",\"type\":\"Plot\"},{\"attributes\":{\"source\":{\"id\":\"f9c534a7-5d2a-4680-b507-d2d82d03c973\",\"type\":\"ColumnDataSource\"}},\"id\":\"eeb947d8-2fcf-41cd-b1e3-7442717e1ce6\",\"type\":\"CDSView\"}],\"root_ids\":[\"a96c41ff-0fc9-415c-8a50-27223b5252f5\"]},\"title\":\"Bokeh Application\",\"version\":\"0.13.0\"}};\n",
       "  var render_items = [{\"docid\":\"84d3678e-d12a-4663-8e59-c2057520dafc\",\"roots\":{\"a96c41ff-0fc9-415c-8a50-27223b5252f5\":\"233f714b-c0b5-4880-b44d-9ac693f25e1f\"}}];\n",
       "  root.Bokeh.embed.embed_items_notebook(docs_json, render_items);\n",
       "\n",
       "  }\n",
       "  if (root.Bokeh !== undefined) {\n",
       "    embed_document(root);\n",
       "  } else {\n",
       "    var attempts = 0;\n",
       "    var timer = setInterval(function(root) {\n",
       "      if (root.Bokeh !== undefined) {\n",
       "        embed_document(root);\n",
       "        clearInterval(timer);\n",
       "      }\n",
       "      attempts++;\n",
       "      if (attempts > 100) {\n",
       "        console.log(\"Bokeh: ERROR: Unable to run BokehJS code because BokehJS library is missing\")\n",
       "        clearInterval(timer);\n",
       "      }\n",
       "    }, 10, root)\n",
       "  }\n",
       "})(window);"
      ],
      "application/vnd.bokehjs_exec.v0+json": ""
     },
     "metadata": {
      "application/vnd.bokehjs_exec.v0+json": {
       "id": "a96c41ff-0fc9-415c-8a50-27223b5252f5"
      }
     },
     "output_type": "display_data"
    }
   ],
   "source": [
    "p1.quad(top=hist, bottom=0, left=edges[:-1], right=edges[1:],\n",
    "        fill_color=\"#036564\", line_color=\"#033649\")\n",
    "p1.legend.location = \"center_right\"\n",
    "p1.legend.background_fill_color = \"darkgrey\"\n",
    "p1.xaxis.axis_label = '# of logs'\n",
    "p1.yaxis.axis_label = 'density'\n",
    "show(p1)"
   ]
  },
  {
   "cell_type": "code",
   "execution_count": 16,
   "metadata": {
    "ExecuteTime": {
     "end_time": "2018-07-13T05:26:23.868299Z",
     "start_time": "2018-07-13T05:26:21.761694Z"
    }
   },
   "outputs": [],
   "source": [
    "del tmp_pd"
   ]
  },
  {
   "cell_type": "markdown",
   "metadata": {},
   "source": [
    "###### 평균 6개의 log가 있음"
   ]
  },
  {
   "cell_type": "markdown",
   "metadata": {},
   "source": [
    "## 총 line의 개수 파악"
   ]
  },
  {
   "cell_type": "code",
   "execution_count": 17,
   "metadata": {
    "ExecuteTime": {
     "end_time": "2018-07-13T06:02:27.180320Z",
     "start_time": "2018-07-13T05:26:23.870689Z"
    }
   },
   "outputs": [
    {
     "name": "stdout",
     "output_type": "stream",
     "text": [
      "nrow = 10000000\n",
      "nrow = 20000000\n",
      "nrow = 30000000\n",
      "nrow = 40000000\n",
      "nrow = 50000000\n",
      "50000000\n"
     ]
    }
   ],
   "source": [
    "# 총 line의 갯수를 세어 파일의 크기 파악\n",
    "\n",
    "total_nrow = 0\n",
    "with open('../tut_data/user_logs_small.csv', 'rb') as f:\n",
    "    for lines in f:\n",
    "        total_nrow += 1\n",
    "        if total_nrow % 10000000 == 0:\n",
    "            print('nrow = {}'.format(total_nrow))\n",
    "print(total_nrow)"
   ]
  },
  {
   "cell_type": "markdown",
   "metadata": {},
   "source": [
    "원래는 \n",
    "* 약 2분 정도 소요\n",
    "* $\\Rightarrow$ 3억 9천만건 정도 됨\n",
    "이지만, 지금은 작은 데이터만 사용 $\\Rightarrow$ 5천만건"
   ]
  },
  {
   "cell_type": "markdown",
   "metadata": {},
   "source": [
    "### Log를 구간별로 잘라서 summary 정보를 만들어야 함\n",
    "* 필요한 정보는 고객별, 노래를 들은 횟수와, 총 시간 정보, 날짜는 count의 형태로"
   ]
  },
  {
   "cell_type": "code",
   "execution_count": 18,
   "metadata": {
    "ExecuteTime": {
     "end_time": "2018-07-13T06:02:27.188969Z",
     "start_time": "2018-07-13T06:02:27.183973Z"
    }
   },
   "outputs": [],
   "source": [
    "usr_log_summary = pd.DataFrame()"
   ]
  },
  {
   "cell_type": "markdown",
   "metadata": {},
   "source": [
    "#### Sequentially"
   ]
  },
  {
   "cell_type": "code",
   "execution_count": 19,
   "metadata": {
    "ExecuteTime": {
     "start_time": "2018-07-13T05:17:48.873Z"
    }
   },
   "outputs": [
    {
     "name": "stdout",
     "output_type": "stream",
     "text": [
      "niter = 5\n",
      "0\n",
      "Index(['date_count', 'date_sum', 'num_25_count', 'num_25_sum', 'num_50_count',\n",
      "       'num_50_sum', 'num_75_count', 'num_75_sum', 'num_985_count',\n",
      "       'num_985_sum', 'num_100_count', 'num_100_sum', 'num_unq_count',\n",
      "       'num_unq_sum', 'total_secs_count', 'total_secs_sum'],\n",
      "      dtype='object')\n",
      "1\n",
      "tmp columns = Index(['msno', 'date', 'num_25', 'num_50', 'num_75', 'num_985', 'num_100',\n",
      "       'num_unq', 'total_secs'],\n",
      "      dtype='object')\n",
      "Index(['date_count', 'date_sum', 'num_25_count', 'num_25_sum', 'num_50_count',\n",
      "       'num_50_sum', 'num_75_count', 'num_75_sum', 'num_985_count',\n",
      "       'num_985_sum', 'num_100_count', 'num_100_sum', 'num_unq_count',\n",
      "       'num_unq_sum', 'total_secs_count', 'total_secs_sum'],\n",
      "      dtype='object')\n",
      "2\n",
      "tmp columns = Index(['msno', 'date', 'num_25', 'num_50', 'num_75', 'num_985', 'num_100',\n",
      "       'num_unq', 'total_secs'],\n",
      "      dtype='object')\n",
      "Index(['date_count', 'date_sum', 'num_25_count', 'num_25_sum', 'num_50_count',\n",
      "       'num_50_sum', 'num_75_count', 'num_75_sum', 'num_985_count',\n",
      "       'num_985_sum', 'num_100_count', 'num_100_sum', 'num_unq_count',\n",
      "       'num_unq_sum', 'total_secs_count', 'total_secs_sum'],\n",
      "      dtype='object')\n",
      "3\n",
      "tmp columns = Index(['msno', 'date', 'num_25', 'num_50', 'num_75', 'num_985', 'num_100',\n",
      "       'num_unq', 'total_secs'],\n",
      "      dtype='object')\n",
      "Index(['date_count', 'date_sum', 'num_25_count', 'num_25_sum', 'num_50_count',\n",
      "       'num_50_sum', 'num_75_count', 'num_75_sum', 'num_985_count',\n",
      "       'num_985_sum', 'num_100_count', 'num_100_sum', 'num_unq_count',\n",
      "       'num_unq_sum', 'total_secs_count', 'total_secs_sum'],\n",
      "      dtype='object')\n",
      "4\n",
      "tmp columns = Index(['msno', 'date', 'num_25', 'num_50', 'num_75', 'num_985', 'num_100',\n",
      "       'num_unq', 'total_secs'],\n",
      "      dtype='object')\n",
      "Index(['date_count', 'date_sum', 'num_25_count', 'num_25_sum', 'num_50_count',\n",
      "       'num_50_sum', 'num_75_count', 'num_75_sum', 'num_985_count',\n",
      "       'num_985_sum', 'num_100_count', 'num_100_sum', 'num_unq_count',\n",
      "       'num_unq_sum', 'total_secs_count', 'total_secs_sum'],\n",
      "      dtype='object')\n"
     ]
    }
   ],
   "source": [
    "nrows_to_read = 10000000\n",
    "total_nrows = 50000000\n",
    "\n",
    "n_iter = total_nrows // nrows_to_read\n",
    "print('niter = {}'.format(n_iter))\n",
    "\n",
    "keep_col = ['date_count', 'num_25_sum', 'num_50_sum', 'num_75_sum', 'num_985_sum', 'num_100_sum','num_unq_sum', 'total_secs_sum']\n",
    "col_name = []\n",
    "for i in range(n_iter):\n",
    "    if i == 10:\n",
    "        break\n",
    "    print(i)\n",
    "    if i == 0:\n",
    "        tmp = pd.read_csv('../tut_data/user_logs_small.csv', header = 0, nrows=nrows_to_read)\n",
    "        col_name = tmp.columns\n",
    "    else:\n",
    "        tmp = pd.read_csv('../tut_data/user_logs_small.csv', header = None\n",
    "                        , skiprows = nrows_to_read*i + 1\n",
    "                        , nrows=nrows_to_read)\n",
    "    if tmp.shape[0] == 0:\n",
    "        break\n",
    "                        \n",
    "    if i == 0:\n",
    "        tmp_1 = tmp.groupby(['msno']).agg(['count', 'sum'])\n",
    "        tmp_1.columns = [\"_\".join(x) for x in tmp_1.columns.ravel()]\n",
    "        print(tmp_1.columns)\n",
    "        tmp_2 = tmp_1[keep_col].reset_index()\n",
    "        usr_log_summary = tmp_2\n",
    "        #print('i = {}, shape = {}'.format(i, usr_log_summary.shape))\n",
    "        \n",
    "    else:\n",
    "        tmp.columns = col_name\n",
    "        print('tmp columns = {}'.format(col_name))\n",
    "        tmp_1 = tmp.groupby(['msno']).agg(['count', 'sum'])\n",
    "        tmp_1.columns = [\"_\".join(x) for x in tmp_1.columns.ravel()]\n",
    "        print(tmp_1.columns)\n",
    "        tmp_2 = tmp_1[keep_col].reset_index()\n",
    "        usr_log_summary = pd.concat([usr_log_summary, tmp_2], axis = 0)\n",
    "        usr_log_summary = usr_log_summary.groupby(['msno']).sum().reset_index()\n",
    "        #print('i = {}, tmp_2 shape = {}'.format(i, tmp_2.shape))\n",
    "        #print('i = {}, usr_log_summary shape = {}'.format(i, usr_log_summary.shape))\n",
    "        #print('tmp_2 head = {}'.format(tmp_2[['msno', 'date_count', 'num_25_sum']].tail(3)))\n",
    "        #print('usr_log_summary head = {}'.format(usr_log_summary[['msno', 'date_count', 'num_25_sum']].tail(3)))\n",
    "    del [tmp, tmp_1, tmp_2]"
   ]
  },
  {
   "cell_type": "code",
   "execution_count": 20,
   "metadata": {
    "ExecuteTime": {
     "start_time": "2018-07-13T05:17:48.875Z"
    }
   },
   "outputs": [],
   "source": [
    "del usr_log_summary"
   ]
  },
  {
   "cell_type": "markdown",
   "metadata": {},
   "source": [
    "## Multiprocess"
   ]
  },
  {
   "cell_type": "code",
   "execution_count": 21,
   "metadata": {
    "ExecuteTime": {
     "start_time": "2018-07-13T05:17:48.876Z"
    }
   },
   "outputs": [
    {
     "name": "stdout",
     "output_type": "stream",
     "text": [
      "Task no = 0\n",
      "Task no = 1\n",
      "Task no = 2\n",
      "Task no = 3\n",
      "Task no = 4\n",
      "Task no = 5\n",
      "Task no = 6\n",
      "Task no = 7\n",
      "Task no = 8\n",
      "Task no = 9\n",
      "job registered!!\n",
      "process id = Task no 0\n",
      "process id = Task no 1\n",
      "tmp_2.columns = Index(['msno', 'date_count', 'num_25_sum', 'num_50_sum', 'num_75_sum',\n",
      "       'num_985_sum', 'num_100_sum', 'num_unq_sum', 'total_secs_sum'],\n",
      "      dtype='object')\n",
      "process id = Task no 2\n",
      "tmp_2.columns = Index(['msno', 'date_count', 'num_25_sum', 'num_50_sum', 'num_75_sum',\n",
      "       'num_985_sum', 'num_100_sum', 'num_unq_sum', 'total_secs_sum'],\n",
      "      dtype='object')\n",
      "process id = Task no 3\n",
      "tmp_2.columns = Index(['msno', 'date_count', 'num_25_sum', 'num_50_sum', 'num_75_sum',\n",
      "       'num_985_sum', 'num_100_sum', 'num_unq_sum', 'total_secs_sum'],\n",
      "      dtype='object')\n",
      "process id = Task no 4\n",
      "tmp_2.columns = Index(['msno', 'date_count', 'num_25_sum', 'num_50_sum', 'num_75_sum',\n",
      "       'num_985_sum', 'num_100_sum', 'num_unq_sum', 'total_secs_sum'],\n",
      "      dtype='object')\n",
      "process id = Task no 5\n",
      "tmp_2.columns = Index(['msno', 'date_count', 'num_25_sum', 'num_50_sum', 'num_75_sum',\n",
      "       'num_985_sum', 'num_100_sum', 'num_unq_sum', 'total_secs_sum'],\n",
      "      dtype='object')\n",
      "process id = Task no 6\n",
      "tmp_2.columns = Index(['msno', 'date_count', 'num_25_sum', 'num_50_sum', 'num_75_sum',\n",
      "       'num_985_sum', 'num_100_sum', 'num_unq_sum', 'total_secs_sum'],\n",
      "      dtype='object')\n",
      "tmp_2.columns = Index(['msno', 'date_count', 'num_25_sum', 'num_50_sum', 'num_75_sum',\n",
      "       'num_985_sum', 'num_100_sum', 'num_unq_sum', 'total_secs_sum'],\n",
      "      dtype='object')\n",
      "process id = Task no 7\n",
      "process id = Task no 8\n",
      "tmp_2.columns = Index(['msno', 'date_count', 'num_25_sum', 'num_50_sum', 'num_75_sum',\n",
      "       'num_985_sum', 'num_100_sum', 'num_unq_sum', 'total_secs_sum'],\n",
      "      dtype='object')\n",
      "process id = Task no 9\n",
      "tmp_2.columns = Index(['msno', 'date_count', 'num_25_sum', 'num_50_sum', 'num_75_sum',\n",
      "       'num_985_sum', 'num_100_sum', 'num_unq_sum', 'total_secs_sum'],\n",
      "      dtype='object')\n",
      "process Task no 8 done!\n",
      "tmp_2.columns = Index(['msno', 'date_count', 'num_25_sum', 'num_50_sum', 'num_75_sum',\n",
      "       'num_985_sum', 'num_100_sum', 'num_unq_sum', 'total_secs_sum'],\n",
      "      dtype='object')\n",
      "process Task no 9 done!\n",
      "tmp output shape = (610001, 9)\n",
      "log_summary shape = (610001, 9)\n",
      "log_summary shape =                                            msno  date_count  num_25_sum  \\\n",
      "0  +++snpr7pmobhLKUgSHTv/mpkqgBT0tQJ0zQj6qKrqc=          12         133   \n",
      "1  ++/9R3sX37CjxbY/AaGvbwr3QkwElKBCtSvVzhCBDOk=           6          47   \n",
      "\n",
      "   num_50_sum  num_75_sum  num_985_sum  num_100_sum  num_unq_sum  \\\n",
      "0          91          35           33          441          567   \n",
      "1           6           8           14          158           99   \n",
      "\n",
      "   total_secs_sum  \n",
      "0      130886.080  \n",
      "1       46220.777  \n",
      "tmp output shape = (609620, 9)\n",
      "log_summary shape = (1219621, 9)\n",
      "log_summary shape =                                            msno  date_count  num_25_sum  \\\n",
      "0  +++FOrTS7ab3tIgIh8eWwX4FqRv8w/FoiOuyXsFvphY=           1           1   \n",
      "1  +++dz9ZCWE2HB/47pJU82NJXQzQuZDx1Wm50YSk/kKk=           1           3   \n",
      "\n",
      "   num_50_sum  num_75_sum  num_985_sum  num_100_sum  num_unq_sum  \\\n",
      "0           0           1            1           10           10   \n",
      "1           0           0            1           65           54   \n",
      "\n",
      "   total_secs_sum  \n",
      "0        2998.267  \n",
      "1       17132.904  \n",
      "tmp output shape = (507539, 9)\n",
      "log_summary shape = (1606802, 9)\n",
      "log_summary shape =                                            msno  date_count  num_25_sum  \\\n",
      "0  +++IZseRRiQS9aaSkH6cMYU6bGDcxUieAi/tH67sC5s=          24          13   \n",
      "1  +++hVY1rZox/33YtvDgmKA2Frg/2qhkz12B9ylCvh8o=           2          11   \n",
      "\n",
      "   num_50_sum  num_75_sum  num_985_sum  num_100_sum  num_unq_sum  \\\n",
      "0           4          10            6         2766         2528   \n",
      "1           4           1           14           41           49   \n",
      "\n",
      "   total_secs_sum  \n",
      "0      683745.992  \n",
      "1       14066.005  \n",
      "tmp output shape = (610190, 9)\n",
      "log_summary shape = (1637578, 9)\n",
      "log_summary shape =                                            msno  date_count  num_25_sum  \\\n",
      "0  +++l/EXNMLTijfLBa8p2TUVVVp2aFGSuUI/h7mLmthw=          12           7   \n",
      "1  +++rMjxjARDHEx9zEFOpvJEDBDhT1ncn0PEnCx3llA0=           1           0   \n",
      "\n",
      "   num_50_sum  num_75_sum  num_985_sum  num_100_sum  num_unq_sum  \\\n",
      "0           3           8            7          228          210   \n",
      "1           1           0            2            2            5   \n",
      "\n",
      "   total_secs_sum  \n",
      "0       59276.712  \n",
      "1        1032.141  \n",
      "tmp output shape = (609493, 9)\n",
      "log_summary shape = (1668483, 9)\n",
      "log_summary shape =                                            msno  date_count  num_25_sum  \\\n",
      "0  +++dz9ZCWE2HB/47pJU82NJXQzQuZDx1Wm50YSk/kKk=           1           0   \n",
      "1  +++hVY1rZox/33YtvDgmKA2Frg/2qhkz12B9ylCvh8o=           2          13   \n",
      "\n",
      "   num_50_sum  num_75_sum  num_985_sum  num_100_sum  num_unq_sum  \\\n",
      "0           0           0            0           40           40   \n",
      "1           9           3            9           43           38   \n",
      "\n",
      "   total_secs_sum  \n",
      "0       10211.764  \n",
      "1       13942.972  \n",
      "tmp output shape = (609718, 9)\n",
      "log_summary shape = (1703925, 9)\n",
      "log_summary shape =                                            msno  date_count  num_25_sum  \\\n",
      "0  +++FOrTS7ab3tIgIh8eWwX4FqRv8w/FoiOuyXsFvphY=           1           0   \n",
      "1  +++IZseRRiQS9aaSkH6cMYU6bGDcxUieAi/tH67sC5s=          12          12   \n",
      "\n",
      "   num_50_sum  num_75_sum  num_985_sum  num_100_sum  num_unq_sum  \\\n",
      "0           0           0            0            3            2   \n",
      "1           4           1            4         1310         1103   \n",
      "\n",
      "   total_secs_sum  \n",
      "0         956.832  \n",
      "1      315776.742  \n",
      "tmp output shape = (611505, 9)\n",
      "log_summary shape = (1730193, 9)\n",
      "log_summary shape =                                            msno  date_count  num_25_sum  \\\n",
      "0  +++FOrTS7ab3tIgIh8eWwX4FqRv8w/FoiOuyXsFvphY=           1          12   \n",
      "1  +++hVY1rZox/33YtvDgmKA2Frg/2qhkz12B9ylCvh8o=           2          13   \n",
      "\n",
      "   num_50_sum  num_75_sum  num_985_sum  num_100_sum  num_unq_sum  \\\n",
      "0           7           2            2           10           26   \n",
      "1           5           6           17           56           62   \n",
      "\n",
      "   total_secs_sum  \n",
      "0        4158.787  \n",
      "1       18194.939  \n",
      "tmp output shape = (565092, 9)\n",
      "log_summary shape = (1761293, 9)\n",
      "log_summary shape =                                            msno  date_count  num_25_sum  \\\n",
      "0  +++l/EXNMLTijfLBa8p2TUVVVp2aFGSuUI/h7mLmthw=          12          14   \n",
      "1  +++rMjxjARDHEx9zEFOpvJEDBDhT1ncn0PEnCx3llA0=           1           1   \n",
      "\n",
      "   num_50_sum  num_75_sum  num_985_sum  num_100_sum  num_unq_sum  \\\n",
      "0           7          10           11          238          236   \n",
      "1           0           0            0            0            1   \n",
      "\n",
      "   total_secs_sum  \n",
      "0       63596.992  \n",
      "1          32.397  \n",
      "tmp output shape = (609173, 9)\n",
      "log_summary shape = (1791921, 9)\n",
      "log_summary shape =                                            msno  date_count  num_25_sum  \\\n",
      "0  +++IZseRRiQS9aaSkH6cMYU6bGDcxUieAi/tH67sC5s=          12          28   \n",
      "1  +++hVY1rZox/33YtvDgmKA2Frg/2qhkz12B9ylCvh8o=           2           5   \n",
      "\n",
      "   num_50_sum  num_75_sum  num_985_sum  num_100_sum  num_unq_sum  \\\n",
      "0          10           5            5         1108         1038   \n",
      "1           5           7           10           47           41   \n",
      "\n",
      "   total_secs_sum  \n",
      "0      270603.114  \n",
      "1       14728.541  \n",
      "tmp output shape = (610710, 9)\n",
      "log_summary shape = (1822947, 9)\n",
      "log_summary shape =                                            msno  date_count  num_25_sum  \\\n",
      "0  +++FOrTS7ab3tIgIh8eWwX4FqRv8w/FoiOuyXsFvphY=           1           3   \n",
      "1  +++rMjxjARDHEx9zEFOpvJEDBDhT1ncn0PEnCx3llA0=           1           1   \n",
      "\n",
      "   num_50_sum  num_75_sum  num_985_sum  num_100_sum  num_unq_sum  \\\n",
      "0           0           0            2           75           61   \n",
      "1           0           0            0            1            2   \n",
      "\n",
      "   total_secs_sum  \n",
      "0       19967.738  \n",
      "1         341.983  \n"
     ]
    }
   ],
   "source": [
    "from multiprocessing import Lock, Process, Queue, Manager\n",
    "import time\n",
    "import pandas as pd\n",
    "import pickle\n",
    "\n",
    "# Info\n",
    "nrows_to_read = 3000000\n",
    "total_nrows = 392106544\n",
    "# nrows_to_read = 100\n",
    "# total_nrows = 602\n",
    "#number_of_task = total_nrows // nrows_to_read\n",
    "number_of_task = 10\n",
    "number_of_processes = 2\n",
    "\n",
    "\n",
    "def worker(q, oq, _n_to_read):\n",
    "    while(True):\n",
    "        try:\n",
    "            process_id = q.get(block = False)\n",
    "            print('process id = {}'.format(process_id))\n",
    "        except:\n",
    "            print('process {} done!'.format(process_id))\n",
    "            break\n",
    "        \n",
    "        chunk = int(process_id.split(' ')[-1])\n",
    "\n",
    "        columns = list(pd.read_csv('../tut_data/user_logs_small.csv', header = 0, nrows= 1))\n",
    "        tmp = pd.read_csv('../tut_data/user_logs_small.csv', header = None\n",
    "                            , skiprows = _n_to_read * chunk + 1\n",
    "                            , nrows= _n_to_read)\n",
    "        tmp.columns = columns\n",
    "        tmp_1 = tmp.groupby(['msno']).agg(['count', 'sum'])\n",
    "        tmp_1.columns = [\"_\".join(x) for x in tmp_1.columns.ravel()]\n",
    "        tmp_2 = tmp_1[keep_col].reset_index()\n",
    "        print('tmp_2.columns = {}'.format(tmp_2.columns))\n",
    "        oq.put(tmp_2) # 결과를 output queue에 저장\n",
    "\n",
    "\n",
    "# start\n",
    "processes = []\n",
    "manager = Manager()\n",
    "\n",
    "worker_q = manager.Queue() # Job에 대한 정보를 가지고 있는 queue\n",
    "output_q = manager.Queue() # 결과물을 저장할 queue: queue에 아무것도 없을 때까지 계속 process를 monitoring\n",
    "\n",
    "for i in range(number_of_task): # Job 설정\n",
    "    worker_q.put(\"Task no \" + str(i))\n",
    "    print('Task no = {}'.format(i))\n",
    "print('job registered!!')\n",
    "\n",
    "# creating processes\n",
    "for w in range(number_of_processes):\n",
    "    p = Process(target=worker, args=(worker_q, output_q, nrows_to_read))\n",
    "    processes.append(p)\n",
    "\n",
    "# Start process\n",
    "[p.start() for p in processes]\n",
    "\n",
    "# completing process\n",
    "[p.join() for p in processes]\n",
    "\n",
    "log_summary = pd.DataFrame()\n",
    "\n",
    "# print the output\n",
    "while not output_q.empty():\n",
    "    res = output_q.get()\n",
    "    log_summary = pd.concat([log_summary, res], axis = 0)\n",
    "    log_summary = log_summary.groupby(['msno']).sum().reset_index()\n",
    "    \n",
    "    print('tmp output shape = {}'.format(res.shape))\n",
    "    print('log_summary shape = {}'.format(log_summary.shape))\n",
    "    print('log_summary shape = {}'.format(res.head(2)))"
   ]
  },
  {
   "cell_type": "code",
   "execution_count": 22,
   "metadata": {
    "ExecuteTime": {
     "start_time": "2018-07-13T05:17:48.877Z"
    }
   },
   "outputs": [
    {
     "name": "stdout",
     "output_type": "stream",
     "text": [
      "ls: cannot access '../data': No such file or directory\r\n"
     ]
    }
   ],
   "source": [
    "! ls ../data"
   ]
  }
 ],
 "metadata": {
  "kernelspec": {
   "display_name": "Python 3",
   "language": "python",
   "name": "python3"
  },
  "language_info": {
   "codemirror_mode": {
    "name": "ipython",
    "version": 3
   },
   "file_extension": ".py",
   "mimetype": "text/x-python",
   "name": "python",
   "nbconvert_exporter": "python",
   "pygments_lexer": "ipython3",
   "version": "3.6.5"
  }
 },
 "nbformat": 4,
 "nbformat_minor": 2
}
